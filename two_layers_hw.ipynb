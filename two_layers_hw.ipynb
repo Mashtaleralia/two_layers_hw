{
 "cells": [
  {
   "cell_type": "code",
   "execution_count": 1,
   "metadata": {},
   "outputs": [],
   "source": [
    "import numpy as np"
   ]
  },
  {
   "cell_type": "code",
   "execution_count": 2,
   "metadata": {},
   "outputs": [],
   "source": [
    "def sigmoid(x):\n",
    "    return 1/(1+np.exp(-x))"
   ]
  },
  {
   "cell_type": "code",
   "execution_count": 3,
   "metadata": {},
   "outputs": [],
   "source": [
    "def sigmoid_deriv(x):\n",
    "    return sigmoid(x)*(1-sigmoid(x))"
   ]
  },
  {
   "cell_type": "code",
   "execution_count": 4,
   "metadata": {},
   "outputs": [],
   "source": [
    "from sklearn.datasets import load_digits\n",
    "from sklearn.preprocessing import MinMaxScaler\n",
    "import matplotlib.pyplot as plt"
   ]
  },
  {
   "cell_type": "code",
   "execution_count": 5,
   "metadata": {},
   "outputs": [
    {
     "name": "stdout",
     "output_type": "stream",
     "text": [
      "(1797, 64)\n"
     ]
    },
    {
     "data": {
      "image/png": "[encoded data removed]",
      "text/plain": [
       "<Figure size 1600x600 with 10 Axes>"
      ]
     },
     "metadata": {},
     "output_type": "display_data"
    }
   ],
   "source": [
    "X, y = load_digits(return_X_y=True)\n",
    "print(X.shape)\n",
    "plt.figure(figsize=(16, 6))\n",
    "for i in range(10):\n",
    "    plt.subplot(2, 5, i+1)\n",
    "    plt.imshow(X[i, :].reshape(8, 8))"
   ]
  },
  {
   "cell_type": "code",
   "execution_count": 6,
   "metadata": {},
   "outputs": [],
   "source": [
    "def to_one_hot(Y):\n",
    "    n_col = np.max(Y) + 1\n",
    "    binarized = np.zeros((len(y), n_col))\n",
    "    for i in range(len(Y)):\n",
    "        binarized[i, Y[i]] = 1\n",
    "    return binarized"
   ]
  },
  {
   "cell_type": "code",
   "execution_count": 7,
   "metadata": {},
   "outputs": [
    {
     "data": {
      "text/plain": [
       "array([[1., 0., 0., ..., 0., 0., 0.],\n",
       "       [0., 1., 0., ..., 0., 0., 0.],\n",
       "       [0., 0., 1., ..., 0., 0., 0.],\n",
       "       ...,\n",
       "       [0., 0., 0., ..., 0., 1., 0.],\n",
       "       [0., 0., 0., ..., 0., 0., 1.],\n",
       "       [0., 0., 0., ..., 0., 1., 0.]])"
      ]
     },
     "metadata": {},
     "output_type": "display_data"
    },
    {
     "data": {
      "text/plain": [
       "(1797, 10)"
      ]
     },
     "metadata": {},
     "output_type": "display_data"
    }
   ],
   "source": [
    "scaler = MinMaxScaler()\n",
    "X = scaler.fit_transform(X)\n",
    "\n",
    "y = y.flatten()\n",
    "y = to_one_hot(y)\n",
    "display(y, y.shape)"
   ]
  },
  {
   "cell_type": "code",
   "execution_count": 8,
   "metadata": {},
   "outputs": [
    {
     "data": {
      "text/plain": [
       "((1203, 64), (594, 64))"
      ]
     },
     "execution_count": 8,
     "metadata": {},
     "output_type": "execute_result"
    }
   ],
   "source": [
    "from sklearn.model_selection import train_test_split\n",
    "\n",
    "X_train, X_test, y_train, y_test = train_test_split(X, y, test_size=0.33)\n",
    "X_train.shape, X_test.shape"
   ]
  },
  {
   "cell_type": "code",
   "execution_count": 9,
   "metadata": {},
   "outputs": [],
   "source": [
    "epochs = [100, 1000, 10000]\n",
    "neuron_nums = [5, 10, 15, 20]\n",
    "learning_rates = [0.01, 0.1, 0.5]\n",
    "def two_layer_nn(num_epochs, neuron_num, learning_rate):\n",
    "\n",
    "    np.random.seed(1)\n",
    "    w0 = np.random.random((64, neuron_num))\n",
    "    w1 = np.random.random((neuron_num, 10))\n",
    "\n",
    "    errors = []\n",
    "    metrics = []\n",
    "\n",
    "    for i in range(num_epochs):\n",
    "        layer0 = X_train\n",
    "        layer1 = sigmoid(np.dot(layer0, w0))\n",
    "        layer2 = sigmoid(np.dot(layer1, w1))\n",
    "\n",
    "        layer2_error = layer2 - y_train\n",
    "        layer2_grad = layer2_error * sigmoid_deriv(layer2)\n",
    "\n",
    "        layer1_error = layer2_grad.dot(w1.T)\n",
    "        layer1_grad = layer1_error * sigmoid_deriv(layer1)\n",
    "\n",
    "        w1 -= layer1.T.dot(layer2_grad) * learning_rate\n",
    "        w0 -= layer0.T.dot(layer1_grad) * learning_rate\n",
    "\n",
    "        error = np.mean(np.abs(layer2_error))\n",
    "        errors.append(error)\n",
    "\n",
    "        preds = np.argmax(layer2, axis=1)\n",
    "        labels = np.argmax(y_train, axis=1)\n",
    "        accuracy = (preds == labels).sum() * 100 / len(labels)\n",
    "    layer0_test = X_test\n",
    "    layer1_test = sigmoid(np.dot(layer0_test, w0))\n",
    "    layer2_test = sigmoid(np.dot(layer1_test, w1))\n",
    "    preds_test = np.argmax(layer2_test, axis=1)\n",
    "    labels_test = np.argmax (y_test, axis=1)\n",
    "    accuracy_test = (preds_test == labels_test).sum() * 100 / len(labels_test)\n",
    "    # print(f\"accuracy на тесте {accuracy_test:.2f}%\")\n",
    "    print(f\"{num_epochs}, {neuron_num}, {learning_rate}-----accuracy на train {accuracy:.2f}% на test {accuracy_test:.2f}%\")\n",
    "    return {accuracy: (num_epochs, neuron_num, learning_rate)}"
   ]
  },
  {
   "cell_type": "code",
   "execution_count": 10,
   "metadata": {},
   "outputs": [
    {
     "name": "stdout",
     "output_type": "stream",
     "text": [
      "100, 5, 0.01-----accuracy на train 50.29% на test 50.51%\n",
      "100, 5, 0.1-----accuracy на train 33.25% на test 46.63%\n",
      "100, 5, 0.5-----accuracy на train 17.29% на test 27.78%\n",
      "100, 10, 0.01-----accuracy на train 76.89% на test 70.88%\n",
      "100, 10, 0.1-----accuracy на train 54.95% на test 56.90%\n",
      "100, 10, 0.5-----accuracy на train 24.94% на test 37.04%\n"
     ]
    },
    {
     "name": "stderr",
     "output_type": "stream",
     "text": [
      "/var/folders/6b/trflvtg149bbjj4kbzxvyyzh0000gn/T/ipykernel_28411/4033946986.py:2: RuntimeWarning: overflow encountered in exp\n",
      "  return 1/(1+np.exp(-x))\n"
     ]
    },
    {
     "name": "stdout",
     "output_type": "stream",
     "text": [
      "100, 15, 0.01-----accuracy на train 87.28% на test 84.34%\n",
      "100, 15, 0.1-----accuracy на train 71.74% на test 68.18%\n",
      "100, 15, 0.5-----accuracy на train 5.24% на test 21.21%\n",
      "100, 20, 0.01-----accuracy на train 92.93% на test 90.07%\n",
      "100, 20, 0.1-----accuracy на train 75.56% на test 75.42%\n",
      "100, 20, 0.5-----accuracy на train 32.34% на test 48.82%\n",
      "1000, 5, 0.01-----accuracy на train 59.52% на test 57.91%\n",
      "1000, 5, 0.1-----accuracy на train 58.60% на test 42.26%\n",
      "1000, 5, 0.5-----accuracy на train 43.14% на test 42.42%\n",
      "1000, 10, 0.01-----accuracy на train 85.62% на test 81.82%\n",
      "1000, 10, 0.1-----accuracy на train 83.21% на test 80.13%\n",
      "1000, 10, 0.5-----accuracy на train 72.32% на test 73.57%\n",
      "1000, 15, 0.01-----accuracy на train 90.52% на test 85.52%\n",
      "1000, 15, 0.1-----accuracy на train 90.86% на test 87.88%\n",
      "1000, 15, 0.5-----accuracy на train 74.65% на test 73.40%\n",
      "1000, 20, 0.01-----accuracy на train 97.42% на test 92.93%\n",
      "1000, 20, 0.1-----accuracy на train 95.68% на test 91.75%\n",
      "1000, 20, 0.5-----accuracy на train 85.20% на test 83.67%\n",
      "10000, 5, 0.01-----accuracy на train 70.66% на test 68.18%\n",
      "10000, 5, 0.1-----accuracy на train 57.02% на test 38.89%\n",
      "10000, 5, 0.5-----accuracy на train 58.60% на test 53.54%\n",
      "10000, 10, 0.01-----accuracy на train 86.37% на test 80.13%\n",
      "10000, 10, 0.1-----accuracy на train 83.21% на test 78.28%\n",
      "10000, 10, 0.5-----accuracy на train 85.29% на test 80.98%\n",
      "10000, 15, 0.01-----accuracy на train 94.26% на test 89.73%\n",
      "10000, 15, 0.1-----accuracy на train 92.35% на test 86.87%\n",
      "10000, 15, 0.5-----accuracy на train 88.69% на test 84.34%\n",
      "10000, 20, 0.01-----accuracy на train 96.26% на test 90.91%\n",
      "10000, 20, 0.1-----accuracy на train 95.76% на test 89.39%\n",
      "10000, 20, 0.5-----accuracy на train 92.85% на test 86.87%\n"
     ]
    },
    {
     "data": {
      "text/plain": [
       "{np.float64(97.42310889443058): (1000, 20, 0.01)}"
      ]
     },
     "execution_count": 10,
     "metadata": {},
     "output_type": "execute_result"
    }
   ],
   "source": [
    "max_accuracy = 0\n",
    "params = {}\n",
    "for epoch in epochs:\n",
    "    for neuron_num in neuron_nums:\n",
    "        for lrn_rate in learning_rates:\n",
    "            params_accuracy = two_layer_nn(epoch, neuron_num, lrn_rate)\n",
    "            if list(params_accuracy.keys())[0] > max_accuracy:\n",
    "                max_accuracy = list(params_accuracy.keys())[0]\n",
    "                params = params_accuracy\n",
    "\n",
    "params"
   ]
  },
  {
   "cell_type": "markdown",
   "metadata": {},
   "source": [
    "Увеличение количества нейронов в общем положительно влияет на точность классификации. С ростом количества итераций качество сети также растет, но не так значительно, количество итераций должно быть правильно соотносено со скоростью обучения - слишком большой темп при малом количестве итераций дает плохой результат."
   ]
  },
  {
   "cell_type": "code",
   "execution_count": null,
   "metadata": {},
   "outputs": [],
   "source": []
  }
 ],
 "metadata": {
  "kernelspec": {
   "display_name": ".venv",
   "language": "python",
   "name": "python3"
  },
  "language_info": {
   "codemirror_mode": {
    "name": "ipython",
    "version": 3
   },
   "file_extension": ".py",
   "mimetype": "text/x-python",
   "name": "python",
   "nbconvert_exporter": "python",
   "pygments_lexer": "ipython3",
   "version": "3.12.3"
  }
 },
 "nbformat": 4,
 "nbformat_minor": 2
}
